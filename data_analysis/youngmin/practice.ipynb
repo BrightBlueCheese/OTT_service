{
 "cells": [
  {
   "cell_type": "code",
   "execution_count": 2,
   "id": "bf5573ad",
   "metadata": {},
   "outputs": [
    {
     "data": {
      "text/html": [
       "<div>\n",
       "<style scoped>\n",
       "    .dataframe tbody tr th:only-of-type {\n",
       "        vertical-align: middle;\n",
       "    }\n",
       "\n",
       "    .dataframe tbody tr th {\n",
       "        vertical-align: top;\n",
       "    }\n",
       "\n",
       "    .dataframe thead th {\n",
       "        text-align: right;\n",
       "    }\n",
       "</style>\n",
       "<table border=\"1\" class=\"dataframe\">\n",
       "  <thead>\n",
       "    <tr style=\"text-align: right;\">\n",
       "      <th></th>\n",
       "      <th>job</th>\n",
       "      <th>sex</th>\n",
       "      <th>year</th>\n",
       "      <th>count</th>\n",
       "      <th>perc</th>\n",
       "    </tr>\n",
       "  </thead>\n",
       "  <tbody>\n",
       "    <tr>\n",
       "      <th>0</th>\n",
       "      <td>Accountant / Auditor</td>\n",
       "      <td>men</td>\n",
       "      <td>1850</td>\n",
       "      <td>708</td>\n",
       "      <td>0.000131</td>\n",
       "    </tr>\n",
       "    <tr>\n",
       "      <th>1</th>\n",
       "      <td>Accountant / Auditor</td>\n",
       "      <td>men</td>\n",
       "      <td>1860</td>\n",
       "      <td>1805</td>\n",
       "      <td>0.000214</td>\n",
       "    </tr>\n",
       "    <tr>\n",
       "      <th>2</th>\n",
       "      <td>Accountant / Auditor</td>\n",
       "      <td>men</td>\n",
       "      <td>1870</td>\n",
       "      <td>1310</td>\n",
       "      <td>0.000100</td>\n",
       "    </tr>\n",
       "    <tr>\n",
       "      <th>3</th>\n",
       "      <td>Accountant / Auditor</td>\n",
       "      <td>men</td>\n",
       "      <td>1880</td>\n",
       "      <td>2295</td>\n",
       "      <td>0.000125</td>\n",
       "    </tr>\n",
       "    <tr>\n",
       "      <th>4</th>\n",
       "      <td>Accountant / Auditor</td>\n",
       "      <td>men</td>\n",
       "      <td>1900</td>\n",
       "      <td>11753</td>\n",
       "      <td>0.000396</td>\n",
       "    </tr>\n",
       "  </tbody>\n",
       "</table>\n",
       "</div>"
      ],
      "text/plain": [
       "                    job  sex  year  count      perc\n",
       "0  Accountant / Auditor  men  1850    708  0.000131\n",
       "1  Accountant / Auditor  men  1860   1805  0.000214\n",
       "2  Accountant / Auditor  men  1870   1310  0.000100\n",
       "3  Accountant / Auditor  men  1880   2295  0.000125\n",
       "4  Accountant / Auditor  men  1900  11753  0.000396"
      ]
     },
     "execution_count": 2,
     "metadata": {},
     "output_type": "execute_result"
    }
   ],
   "source": [
    "# Load Matplotlib and data wrangling libraries.\n",
    "import matplotlib.pyplot as plt\n",
    "import numpy as np\n",
    "import pandas as pd\n",
    "\n",
    "# Load jobs dataset from Vega's dataset library.\n",
    "from vega_datasets import data\n",
    "\n",
    "# Let's use the jobs dataset for this since\n",
    "# it has two dimensions we can compare across:\n",
    "# job type and gender.\n",
    "df = data.jobs()\n",
    "df.head()"
   ]
  },
  {
   "cell_type": "code",
   "execution_count": 4,
   "id": "b259407c",
   "metadata": {},
   "outputs": [
    {
     "data": {
      "text/html": [
       "<div>\n",
       "<style scoped>\n",
       "    .dataframe tbody tr th:only-of-type {\n",
       "        vertical-align: middle;\n",
       "    }\n",
       "\n",
       "    .dataframe tbody tr th {\n",
       "        vertical-align: top;\n",
       "    }\n",
       "\n",
       "    .dataframe thead th {\n",
       "        text-align: right;\n",
       "    }\n",
       "</style>\n",
       "<table border=\"1\" class=\"dataframe\">\n",
       "  <thead>\n",
       "    <tr style=\"text-align: right;\">\n",
       "      <th></th>\n",
       "      <th>job</th>\n",
       "      <th>sex</th>\n",
       "      <th>year</th>\n",
       "      <th>count</th>\n",
       "      <th>perc</th>\n",
       "    </tr>\n",
       "  </thead>\n",
       "  <tbody>\n",
       "    <tr>\n",
       "      <th>44</th>\n",
       "      <td>Actor</td>\n",
       "      <td>men</td>\n",
       "      <td>2000</td>\n",
       "      <td>29975</td>\n",
       "      <td>0.000178</td>\n",
       "    </tr>\n",
       "    <tr>\n",
       "      <th>59</th>\n",
       "      <td>Actor</td>\n",
       "      <td>women</td>\n",
       "      <td>2000</td>\n",
       "      <td>25931</td>\n",
       "      <td>0.000154</td>\n",
       "    </tr>\n",
       "    <tr>\n",
       "      <th>734</th>\n",
       "      <td>Bartender</td>\n",
       "      <td>men</td>\n",
       "      <td>2000</td>\n",
       "      <td>185678</td>\n",
       "      <td>0.001104</td>\n",
       "    </tr>\n",
       "    <tr>\n",
       "      <th>749</th>\n",
       "      <td>Bartender</td>\n",
       "      <td>women</td>\n",
       "      <td>2000</td>\n",
       "      <td>232073</td>\n",
       "      <td>0.001380</td>\n",
       "    </tr>\n",
       "    <tr>\n",
       "      <th>1844</th>\n",
       "      <td>Dentist</td>\n",
       "      <td>men</td>\n",
       "      <td>2000</td>\n",
       "      <td>141323</td>\n",
       "      <td>0.000841</td>\n",
       "    </tr>\n",
       "  </tbody>\n",
       "</table>\n",
       "</div>"
      ],
      "text/plain": [
       "            job    sex  year   count      perc\n",
       "44        Actor    men  2000   29975  0.000178\n",
       "59        Actor  women  2000   25931  0.000154\n",
       "734   Bartender    men  2000  185678  0.001104\n",
       "749   Bartender  women  2000  232073  0.001380\n",
       "1844    Dentist    men  2000  141323  0.000841"
      ]
     },
     "execution_count": 4,
     "metadata": {},
     "output_type": "execute_result"
    }
   ],
   "source": [
    "# Let's just look at the most recent data from 2000.\n",
    "df = df.loc[df['year'] == 2000]\n",
    "\n",
    "# Let's also just look at a sample of jobs since there\n",
    "# are a bunch!\n",
    "jobs = ['Actor', 'Bartender', 'Dentist', 'Engineer', 'Sailor', 'Scientist']\n",
    "df = df.loc[df['job'].isin(jobs)]\n",
    "\n",
    "# Note, the data is in \"long\" or \"tidy\" format, but wide can work too.\n",
    "df.head()"
   ]
  },
  {
   "cell_type": "code",
   "execution_count": 5,
   "id": "0b4d6eb5",
   "metadata": {},
   "outputs": [
    {
     "data": {
      "text/plain": [
       "44       29975\n",
       "734     185678\n",
       "1844    141323\n",
       "2234    396626\n",
       "6164     31389\n",
       "6254    116374\n",
       "Name: count, dtype: int64"
      ]
     },
     "execution_count": 5,
     "metadata": {},
     "output_type": "execute_result"
    }
   ],
   "source": [
    "df.loc[df['sex'] == 'men', 'count']"
   ]
  }
 ],
 "metadata": {
  "kernelspec": {
   "display_name": "Python 3",
   "language": "python",
   "name": "python3"
  },
  "language_info": {
   "codemirror_mode": {
    "name": "ipython",
    "version": 3
   },
   "file_extension": ".py",
   "mimetype": "text/x-python",
   "name": "python",
   "nbconvert_exporter": "python",
   "pygments_lexer": "ipython3",
   "version": "3.8.8"
  }
 },
 "nbformat": 4,
 "nbformat_minor": 5
}
