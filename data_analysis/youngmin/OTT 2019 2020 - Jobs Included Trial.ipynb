{
 "cells": [
  {
   "cell_type": "code",
   "execution_count": 4,
   "id": "48ebafe7",
   "metadata": {},
   "outputs": [],
   "source": [
    "import pandas as pd\n",
    "import numpy as np\n",
    "import pyreadstat\n",
    "import matplotlib.pyplot as plt\n",
    "import seaborn as sns"
   ]
  },
  {
   "cell_type": "code",
   "execution_count": 5,
   "id": "434e9e96",
   "metadata": {},
   "outputs": [],
   "source": [
    "import matplotlib.font_manager as fm\n",
    "\n",
    "font_dirs = ['/usr/share/fonts/truetype/nanum', ]\n",
    "font_files = fm.findSystemFonts(fontpaths=font_dirs)\n",
    "\n",
    "for font_file in font_files:\n",
    "    fm.fontManager.addfont(font_file)\n",
    "\n",
    "plt.rc('font', family='NanumBarunGothic')"
   ]
  },
  {
   "cell_type": "code",
   "execution_count": 6,
   "id": "37f0c8e8",
   "metadata": {},
   "outputs": [],
   "source": [
    "df = pd.read_csv('../data/ott_2019_2020.csv')"
   ]
  },
  {
   "cell_type": "code",
   "execution_count": 7,
   "id": "56e9e15b",
   "metadata": {},
   "outputs": [
    {
     "data": {
      "text/html": [
       "<div>\n",
       "<style scoped>\n",
       "    .dataframe tbody tr th:only-of-type {\n",
       "        vertical-align: middle;\n",
       "    }\n",
       "\n",
       "    .dataframe tbody tr th {\n",
       "        vertical-align: top;\n",
       "    }\n",
       "\n",
       "    .dataframe thead th {\n",
       "        text-align: right;\n",
       "    }\n",
       "</style>\n",
       "<table border=\"1\" class=\"dataframe\">\n",
       "  <thead>\n",
       "    <tr style=\"text-align: right;\">\n",
       "      <th></th>\n",
       "      <th>성별</th>\n",
       "      <th>연령</th>\n",
       "      <th>직업</th>\n",
       "      <th>ott 주중 이용시간대</th>\n",
       "      <th>ott 주말 이용시간대</th>\n",
       "      <th>연도</th>\n",
       "    </tr>\n",
       "  </thead>\n",
       "  <tbody>\n",
       "    <tr>\n",
       "      <th>0</th>\n",
       "      <td>남</td>\n",
       "      <td>20대</td>\n",
       "      <td>학생</td>\n",
       "      <td>21:00~23:59</td>\n",
       "      <td>18:00~20:59</td>\n",
       "      <td>2019</td>\n",
       "    </tr>\n",
       "    <tr>\n",
       "      <th>1</th>\n",
       "      <td>남</td>\n",
       "      <td>60세 이상</td>\n",
       "      <td>서비스/판매직</td>\n",
       "      <td>21:00~23:59</td>\n",
       "      <td>이용하지 않음</td>\n",
       "      <td>2019</td>\n",
       "    </tr>\n",
       "    <tr>\n",
       "      <th>2</th>\n",
       "      <td>남</td>\n",
       "      <td>60세 이상</td>\n",
       "      <td>사무직</td>\n",
       "      <td>21:00~23:59</td>\n",
       "      <td>15:00~17:59</td>\n",
       "      <td>2019</td>\n",
       "    </tr>\n",
       "    <tr>\n",
       "      <th>3</th>\n",
       "      <td>남</td>\n",
       "      <td>40대</td>\n",
       "      <td>생산직</td>\n",
       "      <td>12:00~14:59</td>\n",
       "      <td>12:00~14:59</td>\n",
       "      <td>2019</td>\n",
       "    </tr>\n",
       "    <tr>\n",
       "      <th>4</th>\n",
       "      <td>남</td>\n",
       "      <td>40대</td>\n",
       "      <td>생산직</td>\n",
       "      <td>18:00~20:59</td>\n",
       "      <td>15:00~17:59</td>\n",
       "      <td>2019</td>\n",
       "    </tr>\n",
       "    <tr>\n",
       "      <th>...</th>\n",
       "      <td>...</td>\n",
       "      <td>...</td>\n",
       "      <td>...</td>\n",
       "      <td>...</td>\n",
       "      <td>...</td>\n",
       "      <td>...</td>\n",
       "    </tr>\n",
       "    <tr>\n",
       "      <th>5253</th>\n",
       "      <td>여</td>\n",
       "      <td>40대</td>\n",
       "      <td>사무직</td>\n",
       "      <td>18:00~20:59</td>\n",
       "      <td>이용하지 않음</td>\n",
       "      <td>2020</td>\n",
       "    </tr>\n",
       "    <tr>\n",
       "      <th>5254</th>\n",
       "      <td>여</td>\n",
       "      <td>40대</td>\n",
       "      <td>서비스/판매직</td>\n",
       "      <td>21:00~23:59</td>\n",
       "      <td>이용하지 않음</td>\n",
       "      <td>2020</td>\n",
       "    </tr>\n",
       "    <tr>\n",
       "      <th>5255</th>\n",
       "      <td>여</td>\n",
       "      <td>40대</td>\n",
       "      <td>서비스/판매직</td>\n",
       "      <td>18:00~20:59</td>\n",
       "      <td>이용하지 않음</td>\n",
       "      <td>2020</td>\n",
       "    </tr>\n",
       "    <tr>\n",
       "      <th>5256</th>\n",
       "      <td>여</td>\n",
       "      <td>30대</td>\n",
       "      <td>서비스/판매직</td>\n",
       "      <td>21:00~23:59</td>\n",
       "      <td>21:00~23:59</td>\n",
       "      <td>2020</td>\n",
       "    </tr>\n",
       "    <tr>\n",
       "      <th>5257</th>\n",
       "      <td>여</td>\n",
       "      <td>20대</td>\n",
       "      <td>사무직</td>\n",
       "      <td>21:00~23:59</td>\n",
       "      <td>15:00~17:59</td>\n",
       "      <td>2020</td>\n",
       "    </tr>\n",
       "  </tbody>\n",
       "</table>\n",
       "<p>5258 rows × 6 columns</p>\n",
       "</div>"
      ],
      "text/plain": [
       "     성별      연령       직업 ott 주중 이용시간대 ott 주말 이용시간대    연도\n",
       "0     남     20대       학생  21:00~23:59  18:00~20:59  2019\n",
       "1     남  60세 이상  서비스/판매직  21:00~23:59      이용하지 않음  2019\n",
       "2     남  60세 이상      사무직  21:00~23:59  15:00~17:59  2019\n",
       "3     남     40대      생산직  12:00~14:59  12:00~14:59  2019\n",
       "4     남     40대      생산직  18:00~20:59  15:00~17:59  2019\n",
       "...  ..     ...      ...          ...          ...   ...\n",
       "5253  여     40대      사무직  18:00~20:59      이용하지 않음  2020\n",
       "5254  여     40대  서비스/판매직  21:00~23:59      이용하지 않음  2020\n",
       "5255  여     40대  서비스/판매직  18:00~20:59      이용하지 않음  2020\n",
       "5256  여     30대  서비스/판매직  21:00~23:59  21:00~23:59  2020\n",
       "5257  여     20대      사무직  21:00~23:59  15:00~17:59  2020\n",
       "\n",
       "[5258 rows x 6 columns]"
      ]
     },
     "execution_count": 7,
     "metadata": {},
     "output_type": "execute_result"
    }
   ],
   "source": [
    "merged_df = df.copy()\n",
    "merged_df"
   ]
  },
  {
   "cell_type": "markdown",
   "id": "04eb28e1",
   "metadata": {},
   "source": [
    "- 그래프 순서"
   ]
  },
  {
   "cell_type": "code",
   "execution_count": 8,
   "id": "8e615798",
   "metadata": {},
   "outputs": [],
   "source": [
    "time_order = ['6:00~8:59',\n",
    " '9:00~11:59',\n",
    " '12:00~14:59',\n",
    " '15:00~17:59',\n",
    " '18:00~20:59',\n",
    " '21:00~23:59',\n",
    " '24:00~5:59',\n",
    " '이용하지 않음']"
   ]
  },
  {
   "cell_type": "code",
   "execution_count": 9,
   "id": "8b26f48f",
   "metadata": {},
   "outputs": [
    {
     "data": {
      "text/plain": [
       "array(['학생', '서비스/판매직', '사무직', '생산직', '무직', '기타', '주부'], dtype=object)"
      ]
     },
     "execution_count": 9,
     "metadata": {},
     "output_type": "execute_result"
    }
   ],
   "source": [
    "merged_df['직업'].unique()"
   ]
  },
  {
   "cell_type": "code",
   "execution_count": 10,
   "id": "fe28d655",
   "metadata": {},
   "outputs": [],
   "source": [
    "job_order = ['학생', '주부', '서비스/판매직', '사무직', '생산직', '무직', '기타']"
   ]
  },
  {
   "cell_type": "code",
   "execution_count": 11,
   "id": "13af1aa8",
   "metadata": {},
   "outputs": [],
   "source": [
    "year_colors = ['wheat', 'goldenrod']"
   ]
  },
  {
   "cell_type": "markdown",
   "id": "7d2bdafe",
   "metadata": {},
   "source": [
    "##  연도별 ott 이용자 직업 분포"
   ]
  },
  {
   "cell_type": "code",
   "execution_count": 15,
   "id": "77d35bca",
   "metadata": {},
   "outputs": [
    {
     "data": {
      "image/png": "[encoded data removed]",
      "text/plain": [
       "<Figure size 864x432 with 1 Axes>"
      ]
     },
     "metadata": {
      "needs_background": "light"
     },
     "output_type": "display_data"
    }
   ],
   "source": [
    "fig, ax = plt.subplots(figsize=(12,6))\n",
    "sns.set_palette('pastel')\n",
    "sns.countplot(x=f'직업', hue='연도', order=job_order, palette=year_colors, data=merged_df)\n",
    "ax.set_title(f'연도별 ott 이용자 직업', pad=15)\n",
    "ax.set_xlabel('직업', labelpad=15)\n",
    "ax.set_ylabel('인원 (명)', labelpad=15)\n",
    "\n",
    "        # legend\n",
    "ax.legend(loc='upper left')\n",
    "\n",
    "for bar in ax.patches:\n",
    "    # The text annotation for each bar should be its height.\n",
    "    bar_value = bar.get_height()\n",
    "    # Format the text with commas to separate thousands. You can do\n",
    "    # any type of formatting here though.\n",
    "    if bar_value > 0:\n",
    "        text = f'{int(bar_value):,}'\n",
    "        text_y = bar.get_y() + bar_value\n",
    "    else:\n",
    "        text = 0\n",
    "        text_y = 0\n",
    "\n",
    "    text_x = bar.get_x() + bar.get_width() / 2\n",
    "\n",
    "    bar_color = bar.get_facecolor()\n",
    "    ax.text(text_x, text_y, text, ha='center', va='bottom', color=bar_color,\n",
    "          size=12)\n",
    "    \n",
    "plt.savefig(\"../data/ppt_png/Number of OTT Users by Jobs\", facecolor=(1,1,1,1), dpi=300, bbox_inches='tight', pad_inches=0.1)"
   ]
  }
 ],
 "metadata": {
  "kernelspec": {
   "display_name": "Python 3 (ipykernel)",
   "language": "python",
   "name": "python3"
  },
  "language_info": {
   "codemirror_mode": {
    "name": "ipython",
    "version": 3
   },
   "file_extension": ".py",
   "mimetype": "text/x-python",
   "name": "python",
   "nbconvert_exporter": "python",
   "pygments_lexer": "ipython3",
   "version": "3.9.7"
  }
 },
 "nbformat": 4,
 "nbformat_minor": 5
}
