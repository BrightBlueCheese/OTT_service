{
 "cells": [
  {
   "cell_type": "code",
   "execution_count": 1,
   "id": "cf95d847",
   "metadata": {},
   "outputs": [],
   "source": [
    "import pandas as pd\n",
    "import numpy as np\n",
    "import pyreadstat\n",
    "import matplotlib.pyplot as plt\n",
    "import seaborn as sns\n",
    "\n",
    "import re"
   ]
  },
  {
   "cell_type": "markdown",
   "id": "63eced52",
   "metadata": {},
   "source": [
    "- favorite_contents_unified_df의 경로를 변경해 주세요"
   ]
  },
  {
   "cell_type": "code",
   "execution_count": 15,
   "id": "60347062",
   "metadata": {},
   "outputs": [],
   "source": [
    "\n",
    "favorite_contents_unified_df = pd.read_csv('../data/favorite_contents_unified_modified.csv')"
   ]
  },
  {
   "cell_type": "code",
   "execution_count": 16,
   "id": "012ea560",
   "metadata": {},
   "outputs": [
    {
     "data": {
      "text/html": [
       "<div>\n",
       "<style scoped>\n",
       "    .dataframe tbody tr th:only-of-type {\n",
       "        vertical-align: middle;\n",
       "    }\n",
       "\n",
       "    .dataframe tbody tr th {\n",
       "        vertical-align: top;\n",
       "    }\n",
       "\n",
       "    .dataframe thead th {\n",
       "        text-align: right;\n",
       "    }\n",
       "</style>\n",
       "<table border=\"1\" class=\"dataframe\">\n",
       "  <thead>\n",
       "    <tr style=\"text-align: right;\">\n",
       "      <th></th>\n",
       "      <th>title</th>\n",
       "      <th>genre_list</th>\n",
       "      <th>drama</th>\n",
       "      <th>comedy</th>\n",
       "      <th>action</th>\n",
       "      <th>thriller</th>\n",
       "      <th>romance</th>\n",
       "      <th>crime</th>\n",
       "      <th>adventure</th>\n",
       "      <th>animation</th>\n",
       "      <th>...</th>\n",
       "      <th>music</th>\n",
       "      <th>short</th>\n",
       "      <th>sport</th>\n",
       "      <th>war</th>\n",
       "      <th>musical</th>\n",
       "      <th>reality-tv</th>\n",
       "      <th>western</th>\n",
       "      <th>game-show</th>\n",
       "      <th>talk-show</th>\n",
       "      <th>img_link</th>\n",
       "    </tr>\n",
       "  </thead>\n",
       "  <tbody>\n",
       "    <tr>\n",
       "      <th>0</th>\n",
       "      <td>Inception</td>\n",
       "      <td>['액션', '모험', 'SF', '스릴러']</td>\n",
       "      <td>0</td>\n",
       "      <td>0</td>\n",
       "      <td>1</td>\n",
       "      <td>1</td>\n",
       "      <td>0</td>\n",
       "      <td>0</td>\n",
       "      <td>1</td>\n",
       "      <td>0</td>\n",
       "      <td>...</td>\n",
       "      <td>0</td>\n",
       "      <td>0</td>\n",
       "      <td>0</td>\n",
       "      <td>0</td>\n",
       "      <td>0</td>\n",
       "      <td>0</td>\n",
       "      <td>0</td>\n",
       "      <td>0</td>\n",
       "      <td>0</td>\n",
       "      <td>https://occ-0-2851-38.1.nflxso.net/dnm/api/v6/...</td>\n",
       "    </tr>\n",
       "    <tr>\n",
       "      <th>1</th>\n",
       "      <td>Shutter Island</td>\n",
       "      <td>['미스터리', '스릴러']</td>\n",
       "      <td>0</td>\n",
       "      <td>0</td>\n",
       "      <td>0</td>\n",
       "      <td>1</td>\n",
       "      <td>0</td>\n",
       "      <td>0</td>\n",
       "      <td>0</td>\n",
       "      <td>0</td>\n",
       "      <td>...</td>\n",
       "      <td>0</td>\n",
       "      <td>0</td>\n",
       "      <td>0</td>\n",
       "      <td>0</td>\n",
       "      <td>0</td>\n",
       "      <td>0</td>\n",
       "      <td>0</td>\n",
       "      <td>0</td>\n",
       "      <td>0</td>\n",
       "      <td>https://occ-0-2773-2774.1.nflxso.net/dnm/api/v...</td>\n",
       "    </tr>\n",
       "    <tr>\n",
       "      <th>2</th>\n",
       "      <td>Memento</td>\n",
       "      <td>['미스터리', '스릴러']</td>\n",
       "      <td>0</td>\n",
       "      <td>0</td>\n",
       "      <td>0</td>\n",
       "      <td>1</td>\n",
       "      <td>0</td>\n",
       "      <td>0</td>\n",
       "      <td>0</td>\n",
       "      <td>0</td>\n",
       "      <td>...</td>\n",
       "      <td>0</td>\n",
       "      <td>0</td>\n",
       "      <td>0</td>\n",
       "      <td>0</td>\n",
       "      <td>0</td>\n",
       "      <td>0</td>\n",
       "      <td>0</td>\n",
       "      <td>0</td>\n",
       "      <td>0</td>\n",
       "      <td>https://occ-0-2773-2774.1.nflxso.net/dnm/api/v...</td>\n",
       "    </tr>\n",
       "    <tr>\n",
       "      <th>3</th>\n",
       "      <td>Back to the Future</td>\n",
       "      <td>['모험', '코미디', 'SF']</td>\n",
       "      <td>0</td>\n",
       "      <td>1</td>\n",
       "      <td>0</td>\n",
       "      <td>0</td>\n",
       "      <td>0</td>\n",
       "      <td>0</td>\n",
       "      <td>1</td>\n",
       "      <td>0</td>\n",
       "      <td>...</td>\n",
       "      <td>0</td>\n",
       "      <td>0</td>\n",
       "      <td>0</td>\n",
       "      <td>0</td>\n",
       "      <td>0</td>\n",
       "      <td>0</td>\n",
       "      <td>0</td>\n",
       "      <td>0</td>\n",
       "      <td>0</td>\n",
       "      <td>https://occ-0-1348-1347.1.nflxso.net/dnm/api/v...</td>\n",
       "    </tr>\n",
       "    <tr>\n",
       "      <th>4</th>\n",
       "      <td>Deadpool</td>\n",
       "      <td>['액션', '모험', '코미디', 'SF']</td>\n",
       "      <td>0</td>\n",
       "      <td>1</td>\n",
       "      <td>1</td>\n",
       "      <td>0</td>\n",
       "      <td>0</td>\n",
       "      <td>0</td>\n",
       "      <td>1</td>\n",
       "      <td>0</td>\n",
       "      <td>...</td>\n",
       "      <td>0</td>\n",
       "      <td>0</td>\n",
       "      <td>0</td>\n",
       "      <td>0</td>\n",
       "      <td>0</td>\n",
       "      <td>0</td>\n",
       "      <td>0</td>\n",
       "      <td>0</td>\n",
       "      <td>0</td>\n",
       "      <td>https://occ-0-2773-2774.1.nflxso.net/dnm/api/v...</td>\n",
       "    </tr>\n",
       "  </tbody>\n",
       "</table>\n",
       "<p>5 rows × 28 columns</p>\n",
       "</div>"
      ],
      "text/plain": [
       "                title                 genre_list  drama  comedy  action  \\\n",
       "0           Inception  ['액션', '모험', 'SF', '스릴러']      0       0       1   \n",
       "1      Shutter Island            ['미스터리', '스릴러']      0       0       0   \n",
       "2             Memento            ['미스터리', '스릴러']      0       0       0   \n",
       "3  Back to the Future        ['모험', '코미디', 'SF']      0       1       0   \n",
       "4            Deadpool  ['액션', '모험', '코미디', 'SF']      0       1       1   \n",
       "\n",
       "   thriller  romance  crime  adventure  animation  ...  music  short  sport  \\\n",
       "0         1        0      0          1          0  ...      0      0      0   \n",
       "1         1        0      0          0          0  ...      0      0      0   \n",
       "2         1        0      0          0          0  ...      0      0      0   \n",
       "3         0        0      0          1          0  ...      0      0      0   \n",
       "4         0        0      0          1          0  ...      0      0      0   \n",
       "\n",
       "   war  musical  reality-tv  western  game-show  talk-show  \\\n",
       "0    0        0           0        0          0          0   \n",
       "1    0        0           0        0          0          0   \n",
       "2    0        0           0        0          0          0   \n",
       "3    0        0           0        0          0          0   \n",
       "4    0        0           0        0          0          0   \n",
       "\n",
       "                                            img_link  \n",
       "0  https://occ-0-2851-38.1.nflxso.net/dnm/api/v6/...  \n",
       "1  https://occ-0-2773-2774.1.nflxso.net/dnm/api/v...  \n",
       "2  https://occ-0-2773-2774.1.nflxso.net/dnm/api/v...  \n",
       "3  https://occ-0-1348-1347.1.nflxso.net/dnm/api/v...  \n",
       "4  https://occ-0-2773-2774.1.nflxso.net/dnm/api/v...  \n",
       "\n",
       "[5 rows x 28 columns]"
      ]
     },
     "execution_count": 16,
     "metadata": {},
     "output_type": "execute_result"
    }
   ],
   "source": [
    "favorite_contents_unified_df.head()"
   ]
  },
  {
   "cell_type": "code",
   "execution_count": 17,
   "id": "5ae94f92",
   "metadata": {},
   "outputs": [
    {
     "name": "stdout",
     "output_type": "stream",
     "text": [
      "데이터 형태:  (129, 28)\n"
     ]
    }
   ],
   "source": [
    "print('데이터 형태: ' ,favorite_contents_unified_df.shape)"
   ]
  },
  {
   "cell_type": "code",
   "execution_count": 18,
   "id": "d55034e8",
   "metadata": {
    "scrolled": true
   },
   "outputs": [
    {
     "data": {
      "text/plain": [
       "'https://occ-0-2851-38.1.nflxso.net/dnm/api/v6/evlCitJPPCVCry0BZlEFb5-QjKc/AAAABYDAY7Malaj4klMEjUvy1YC7O6JXaUodaDIW2xyYs_huUch4quAuREHvGe6VlIj6o1K3THeI7eKXlBDuS6a-JZH7sw.jpg?r=d87'"
      ]
     },
     "execution_count": 18,
     "metadata": {},
     "output_type": "execute_result"
    }
   ],
   "source": [
    "# 이미지 링크\n",
    "favorite_contents_unified_df.iloc[0,-1]"
   ]
  },
  {
   "cell_type": "code",
   "execution_count": 35,
   "id": "d1ea2474",
   "metadata": {},
   "outputs": [
    {
     "name": "stdout",
     "output_type": "stream",
     "text": [
      "['액션', '모험', 'SF', '스릴러']\n"
     ]
    }
   ],
   "source": [
    "# genre_list 의 첫번재 row\n",
    "print(favorite_contents_unified_df['genre_list'][0])"
   ]
  },
  {
   "cell_type": "code",
   "execution_count": 29,
   "id": "4598f4e6",
   "metadata": {},
   "outputs": [
    {
     "name": "stdout",
     "output_type": "stream",
     "text": [
      "title          object\n",
      "genre_list     object\n",
      "drama           int64\n",
      "comedy          int64\n",
      "action          int64\n",
      "thriller        int64\n",
      "romance         int64\n",
      "crime           int64\n",
      "adventure       int64\n",
      "animation       int64\n",
      "fantasy         int64\n",
      "family          int64\n",
      "sci-fi          int64\n",
      "mystery         int64\n",
      "horror          int64\n",
      "documentary     int64\n",
      "biography       int64\n",
      "history         int64\n",
      "music           int64\n",
      "short           int64\n",
      "sport           int64\n",
      "war             int64\n",
      "musical         int64\n",
      "reality-tv      int64\n",
      "western         int64\n",
      "game-show       int64\n",
      "talk-show       int64\n",
      "img_link       object\n",
      "dtype: object\n"
     ]
    }
   ],
   "source": [
    "\n",
    "# 데이터 타입\n",
    "print(favorite_contents_unified_df.dtypes)"
   ]
  },
  {
   "cell_type": "code",
   "execution_count": 42,
   "id": "e1579890",
   "metadata": {},
   "outputs": [],
   "source": [
    "genre_columns_list = ['drama', 'comedy', 'action', 'thriller',\n",
    "       'romance', 'crime', 'adventure', 'animation', 'fantasy', 'family',\n",
    "       'sci-fi', 'mystery', 'horror', 'documentary', 'biography', 'history',\n",
    "       'music', 'short', 'sport', 'war', 'musical', 'reality-tv', 'western',\n",
    "       'game-show', 'talk-show']"
   ]
  },
  {
   "cell_type": "markdown",
   "id": "d12aa45f",
   "metadata": {},
   "source": [
    "- 각 장르들이 차지하는 비율"
   ]
  },
  {
   "cell_type": "code",
   "execution_count": 43,
   "id": "0d391c92",
   "metadata": {},
   "outputs": [
    {
     "data": {
      "text/plain": [
       "drama          7.785888\n",
       "comedy         7.542579\n",
       "action         6.569343\n",
       "thriller       6.082725\n",
       "romance        3.163017\n",
       "crime          6.082725\n",
       "adventure      6.082725\n",
       "animation      4.622871\n",
       "fantasy        5.839416\n",
       "family         4.622871\n",
       "sci-fi         4.622871\n",
       "mystery        3.892944\n",
       "horror         5.839416\n",
       "documentary    5.839416\n",
       "biography      2.919708\n",
       "history        4.136253\n",
       "music          2.189781\n",
       "short          1.459854\n",
       "sport          1.703163\n",
       "war            1.216545\n",
       "musical        1.946472\n",
       "reality-tv     2.676399\n",
       "western        0.973236\n",
       "game-show      1.216545\n",
       "talk-show      0.973236\n",
       "dtype: float64"
      ]
     },
     "execution_count": 43,
     "metadata": {},
     "output_type": "execute_result"
    }
   ],
   "source": [
    "favorite_contents_unified_df[genre_columns_list].sum()/favorite_contents_unified_df[genre_columns_list].sum().sum()*100"
   ]
  },
  {
   "cell_type": "markdown",
   "id": "ad8d7a77",
   "metadata": {},
   "source": [
    "- 각 장르들의 수"
   ]
  },
  {
   "cell_type": "code",
   "execution_count": 44,
   "id": "6dfaec67",
   "metadata": {},
   "outputs": [
    {
     "data": {
      "text/plain": [
       "title          InceptionShutter IslandMementoBack to the Futu...\n",
       "genre_list     ['액션', '모험', 'SF', '스릴러']['미스터리', '스릴러']['미스터리...\n",
       "drama                                                         32\n",
       "comedy                                                        31\n",
       "action                                                        27\n",
       "thriller                                                      25\n",
       "romance                                                       13\n",
       "crime                                                         25\n",
       "adventure                                                     25\n",
       "animation                                                     19\n",
       "fantasy                                                       24\n",
       "family                                                        19\n",
       "sci-fi                                                        19\n",
       "mystery                                                       16\n",
       "horror                                                        24\n",
       "documentary                                                   24\n",
       "biography                                                     12\n",
       "history                                                       17\n",
       "music                                                          9\n",
       "short                                                          6\n",
       "sport                                                          7\n",
       "war                                                            5\n",
       "musical                                                        8\n",
       "reality-tv                                                    11\n",
       "western                                                        4\n",
       "game-show                                                      5\n",
       "talk-show                                                      4\n",
       "img_link       https://occ-0-2851-38.1.nflxso.net/dnm/api/v6/...\n",
       "dtype: object"
      ]
     },
     "execution_count": 44,
     "metadata": {},
     "output_type": "execute_result"
    }
   ],
   "source": [
    "favorite_contents_unified_df.sum()"
   ]
  }
 ],
 "metadata": {
  "kernelspec": {
   "display_name": "Python 3",
   "language": "python",
   "name": "python3"
  },
  "language_info": {
   "codemirror_mode": {
    "name": "ipython",
    "version": 3
   },
   "file_extension": ".py",
   "mimetype": "text/x-python",
   "name": "python",
   "nbconvert_exporter": "python",
   "pygments_lexer": "ipython3",
   "version": "3.8.8"
  }
 },
 "nbformat": 4,
 "nbformat_minor": 5
}
